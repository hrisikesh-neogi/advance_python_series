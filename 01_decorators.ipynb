{
 "cells": [
  {
   "cell_type": "markdown",
   "metadata": {},
   "source": [
    "DECORATORS IN PYTHON\n",
    "\n",
    "1. WHAT ARE DECORATORS\n",
    "2. HOW DOES FUNCTIONS ACT AS OBJECTS TOO\n",
    "3. PASSING THE FUNCTION AS AN ARGUMENT TO ANOTHER FUNCTION\n",
    "4. HOW DOES A FUNCTION COULD RETURN ANOTHER FUNCTION\n",
    "5. CREATING CUSTOM DECORATORS\n",
    "6. CHAINING DECORATORS"
   ]
  },
  {
   "cell_type": "code",
   "execution_count": 1,
   "metadata": {},
   "outputs": [
    {
     "name": "stdout",
     "output_type": "stream",
     "text": [
      "5\n"
     ]
    }
   ],
   "source": [
    "def func_abc(a,b):\n",
    "    print (a+b)\n",
    "\n",
    "func_abc(2,3)"
   ]
  },
  {
   "cell_type": "code",
   "execution_count": 2,
   "metadata": {},
   "outputs": [
    {
     "name": "stdout",
     "output_type": "stream",
     "text": [
      "8\n"
     ]
    }
   ],
   "source": [
    "func = func_abc\n",
    "\n",
    "func(3,5)"
   ]
  },
  {
   "cell_type": "code",
   "execution_count": 4,
   "metadata": {},
   "outputs": [
    {
     "name": "stdout",
     "output_type": "stream",
     "text": [
      "9\n",
      "the value of main func is None\n"
     ]
    }
   ],
   "source": [
    "def main_func(func, *args):\n",
    "    values = func(*args)\n",
    "    print(\"the value of main func is\", values)\n",
    "\n",
    "main_func(func_abc, 4,5)\n"
   ]
  },
  {
   "cell_type": "code",
   "execution_count": 8,
   "metadata": {},
   "outputs": [],
   "source": [
    "def func_abcd(*args):\n",
    "    print(\"printing args\",args)\n",
    "    def abc(y):\n",
    "        print(sum(args)+y)\n",
    "\n",
    "    return abc "
   ]
  },
  {
   "cell_type": "code",
   "execution_count": 9,
   "metadata": {},
   "outputs": [
    {
     "name": "stdout",
     "output_type": "stream",
     "text": [
      "printing args (3, 4, 5)\n"
     ]
    }
   ],
   "source": [
    "func = func_abcd(3,4,5)"
   ]
  },
  {
   "cell_type": "code",
   "execution_count": 11,
   "metadata": {},
   "outputs": [
    {
     "name": "stdout",
     "output_type": "stream",
     "text": [
      "17\n"
     ]
    }
   ],
   "source": [
    "func(5)"
   ]
  },
  {
   "cell_type": "code",
   "execution_count": 19,
   "metadata": {},
   "outputs": [],
   "source": [
    "import time \n",
    "def decorator_abc(func):\n",
    "\n",
    "    def decorator_wrapper():\n",
    "        start_time = time.time()\n",
    "        func()\n",
    "        end_time = time.time()\n",
    "\n",
    "        print(f\"the function took {end_time-start_time} sec to get executed\")\n",
    "    return decorator_wrapper\n"
   ]
  },
  {
   "cell_type": "code",
   "execution_count": 21,
   "metadata": {},
   "outputs": [
    {
     "name": "stdout",
     "output_type": "stream",
     "text": [
      "4999999950000000\n",
      "the function took 6.129799842834473 sec to get executed\n"
     ]
    }
   ],
   "source": [
    "@decorator_abc\n",
    "def abc():\n",
    "    sum = 0\n",
    "    for i in range(1,100000000):\n",
    "        sum += i \n",
    "\n",
    "    print(sum)\n",
    "\n",
    "abc()"
   ]
  },
  {
   "cell_type": "code",
   "execution_count": 25,
   "metadata": {},
   "outputs": [],
   "source": [
    "def square(func):\n",
    "    def wrapper(*args, **kwargs):\n",
    "        print(\"inside decorator\")\n",
    "\n",
    "        value = func(*args, **kwargs)\n",
    "\n",
    "        return value /2\n",
    "    return wrapper\n",
    "\n"
   ]
  },
  {
   "cell_type": "code",
   "execution_count": 26,
   "metadata": {},
   "outputs": [
    {
     "name": "stdout",
     "output_type": "stream",
     "text": [
      "inside decorator\n"
     ]
    },
    {
     "data": {
      "text/plain": [
       "3.0"
      ]
     },
     "execution_count": 26,
     "metadata": {},
     "output_type": "execute_result"
    }
   ],
   "source": [
    "@square\n",
    "def sum_two(a,b):\n",
    "    return a+b\n",
    "\n",
    "sum_two(2,4)"
   ]
  },
  {
   "cell_type": "code",
   "execution_count": 31,
   "metadata": {},
   "outputs": [
    {
     "name": "stdout",
     "output_type": "stream",
     "text": [
      "lower ABCDEFGHIJKLMNOpqrstuvwxyZ\n",
      "upper abcdefghijklmnopqrstuvwxyz\n"
     ]
    },
    {
     "data": {
      "text/plain": [
       "'ABCDEFGHIJKLMNOPQRSTUVWXYZ'"
      ]
     },
     "execution_count": 31,
     "metadata": {},
     "output_type": "execute_result"
    }
   ],
   "source": [
    "def decor_1(func):\n",
    "    def wrapper():\n",
    "        value:str = func()\n",
    "        print(\"upper\", value)\n",
    "        return value.upper()\n",
    "    return wrapper\n",
    "\n",
    "def decor_2(func):\n",
    "    def wrapper():\n",
    "        value : str = func()\n",
    "        print(\"lower\", value)\n",
    "\n",
    "        return value.lower()\n",
    "    return wrapper\n",
    "\n",
    "\n",
    "@decor_1\n",
    "@decor_2\n",
    "def abcd():\n",
    "    return \"ABCDEFGHIJKLMNOpqrstuvwxyZ\"\n",
    "\n",
    "abcd()"
   ]
  },
  {
   "cell_type": "code",
   "execution_count": null,
   "metadata": {},
   "outputs": [],
   "source": []
  }
 ],
 "metadata": {
  "kernelspec": {
   "display_name": "Python 3",
   "language": "python",
   "name": "python3"
  },
  "language_info": {
   "codemirror_mode": {
    "name": "ipython",
    "version": 3
   },
   "file_extension": ".py",
   "mimetype": "text/x-python",
   "name": "python",
   "nbconvert_exporter": "python",
   "pygments_lexer": "ipython3",
   "version": "3.8.18"
  }
 },
 "nbformat": 4,
 "nbformat_minor": 2
}
