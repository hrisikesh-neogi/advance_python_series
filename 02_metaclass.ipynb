{
 "cells": [
  {
   "cell_type": "markdown",
   "metadata": {},
   "source": [
    "# Metaclass in Python\n",
    "\n",
    "In Python, a metaclass is a class that defines the behavior and structure of other classes, often referred to as \"class factories.\" In simpler terms, a metaclass is a class for classes. Just as a class defines the behavior and attributes of instances of that class, a metaclass defines the behavior and attributes of classes.\n",
    "\n",
    "Here are some key points to understand about metaclasses in Python:\n",
    "\n",
    "1. **Everything is an object**: In Python, classes themselves are objects. They are instances of metaclasses. The default metaclass for all classes in Python is typically `type`.\n",
    "\n",
    "2. **Customizing class creation**: Metaclasses allow you to customize how classes are created. You can intervene in the class creation process, modify attributes and methods, or enforce coding standards for classes.\n",
    "\n",
    "3. **Inheritance chain**: In Python, class creation is often controlled by an inheritance chain. When you define a class, it inherits properties and methods from its base class (usually `object` or another class). Metaclasses can affect this inheritance chain.\n",
    "\n",
    "Here's a simple example of how to define a custom metaclass:\n",
    "\n",
    "```python\n",
    "class MyMeta(type):\n",
    "    def __new__(cls, name, bases, attrs):\n",
    "        # Modify the attributes or behavior of the class\n",
    "        attrs['custom_attribute'] = 42\n",
    "        return super(MyMeta, cls).__new__(cls, name, bases, attrs)\n",
    "\n",
    "class MyClass(metaclass=MyMeta):\n",
    "    pass\n",
    "\n",
    "obj = MyClass()\n",
    "print(obj.custom_attribute)  # Output: 42\n",
    "```\n",
    "\n",
    "In this example, `MyMeta` is a custom metaclass that modifies the class `MyClass` by adding a custom attribute to it.\n",
    "\n",
    "Metaclasses are powerful, but they should be used sparingly and only when necessary. In most cases, you can achieve your goals using regular classes and class inheritance. Metaclasses are typically used for advanced scenarios like creating domain-specific languages, enforcing coding standards, or building framework-level functionality.\n",
    "\n",
    "Refer the [Official Documentation](https://docs.python.org/3/reference/datamodel.html#:~:text=3.3.3.1.-,Metaclasses,-%C2%B6)"
   ]
  },
  {
   "cell_type": "markdown",
   "metadata": {},
   "source": [
    "PYTHON METACLASSES\n",
    "1. INTRODUCTION TO PYTHON METACLASSES\n",
    "2. HOW EVERYTHING IN PYTHON IS AN OBJECT\n",
    "3. PROVE TYPE IS THE METACLASS FOR EVERY PYTHON CLASS\n",
    "4. CREATE CLASSES DYNAMICALLY WITH TYPE AS A METACLASS\n",
    "5. DYNAMIC INHERITANCE WITH TYPE METACLASS \n",
    "6. __class__ method explaination\n",
    "7. CUSTOM METACLASSES\n",
    "8. USES OF __new__ AND __init__  \n",
    "9. __call__ METHOD AND ITS USES\n",
    "10. SINGLETON DESIGN WITH METACLASS IN PYTHON"
   ]
  },
  {
   "cell_type": "code",
   "execution_count": 1,
   "metadata": {},
   "outputs": [
    {
     "name": "stdout",
     "output_type": "stream",
     "text": [
      "<__main__.Abc object at 0x0000015EA93C0880>\n"
     ]
    }
   ],
   "source": [
    "# HOW EVERYTHING IN PYTHON IS AN OBJECT\n",
    "\n",
    "class Abc:\n",
    "    def __init__(self) -> None:\n",
    "        pass\n",
    "\n",
    "abc = Abc()\n",
    "print(abc)"
   ]
  },
  {
   "cell_type": "code",
   "execution_count": 2,
   "metadata": {},
   "outputs": [
    {
     "name": "stdout",
     "output_type": "stream",
     "text": [
      "<function abcd at 0x0000015EA93BAB80>\n"
     ]
    }
   ],
   "source": [
    "def abcd():\n",
    "    pass \n",
    "\n",
    "print(abcd)"
   ]
  },
  {
   "cell_type": "code",
   "execution_count": 10,
   "metadata": {},
   "outputs": [
    {
     "data": {
      "text/plain": [
       "type"
      ]
     },
     "execution_count": 10,
     "metadata": {},
     "output_type": "execute_result"
    }
   ],
   "source": [
    "#3. PROVE TYPE IS THE METACLASS FOR EVERY PYTHON CLASS\n",
    "\n",
    "type(Abc) # abc is an instance of Abc class, similarly Abc class ( every class that we create) is an instance of a metaclass ( in python, it is by default the 'type')"
   ]
  },
  {
   "cell_type": "code",
   "execution_count": 11,
   "metadata": {},
   "outputs": [
    {
     "data": {
      "text/plain": [
       "type"
      ]
     },
     "execution_count": 11,
     "metadata": {},
     "output_type": "execute_result"
    }
   ],
   "source": [
    "type(type)"
   ]
  },
  {
   "cell_type": "code",
   "execution_count": 13,
   "metadata": {},
   "outputs": [
    {
     "name": "stdout",
     "output_type": "stream",
     "text": [
      "Collecting pandas\n",
      "  Obtaining dependency information for pandas from https://files.pythonhosted.org/packages/c3/6c/ea362eef61f05553aaf1a24b3e96b2d0603f5dc71a3bd35688a24ed88843/pandas-2.0.3-cp38-cp38-win_amd64.whl.metadata\n",
      "  Using cached pandas-2.0.3-cp38-cp38-win_amd64.whl.metadata (18 kB)\n",
      "Requirement already satisfied: python-dateutil>=2.8.2 in .\\env\\lib\\site-packages (from pandas) (2.8.2)\n",
      "Collecting pytz>=2020.1 (from pandas)\n",
      "  Obtaining dependency information for pytz>=2020.1 from https://files.pythonhosted.org/packages/32/4d/aaf7eff5deb402fd9a24a1449a8119f00d74ae9c2efa79f8ef9994261fc2/pytz-2023.3.post1-py2.py3-none-any.whl.metadata\n",
      "  Using cached pytz-2023.3.post1-py2.py3-none-any.whl.metadata (22 kB)\n",
      "Collecting tzdata>=2022.1 (from pandas)\n",
      "  Using cached tzdata-2023.3-py2.py3-none-any.whl (341 kB)\n",
      "Collecting numpy>=1.20.3 (from pandas)\n",
      "  Obtaining dependency information for numpy>=1.20.3 from https://files.pythonhosted.org/packages/69/65/0d47953afa0ad569d12de5f65d964321c208492064c38fe3b0b9744f8d44/numpy-1.24.4-cp38-cp38-win_amd64.whl.metadata\n",
      "  Using cached numpy-1.24.4-cp38-cp38-win_amd64.whl.metadata (5.6 kB)\n",
      "Requirement already satisfied: six>=1.5 in c:\\users\\hrisikesh_pc\\appdata\\roaming\\python\\python38\\site-packages (from python-dateutil>=2.8.2->pandas) (1.14.0)\n",
      "Using cached pandas-2.0.3-cp38-cp38-win_amd64.whl (10.8 MB)\n",
      "Using cached numpy-1.24.4-cp38-cp38-win_amd64.whl (14.9 MB)\n",
      "Using cached pytz-2023.3.post1-py2.py3-none-any.whl (502 kB)\n",
      "Installing collected packages: pytz, tzdata, numpy, pandas\n",
      "Successfully installed numpy-1.24.4 pandas-2.0.3 pytz-2023.3.post1 tzdata-2023.3\n"
     ]
    }
   ],
   "source": [
    "!pip install pandas"
   ]
  },
  {
   "cell_type": "code",
   "execution_count": 18,
   "metadata": {},
   "outputs": [
    {
     "data": {
      "text/plain": [
       "type"
      ]
     },
     "execution_count": 18,
     "metadata": {},
     "output_type": "execute_result"
    }
   ],
   "source": [
    "import pandas as pd\n",
    "from pandas import DataFrame\n",
    "\n",
    "df = pd.DataFrame([i for i in range(10)])\n",
    "\n",
    "type(DataFrame)"
   ]
  },
  {
   "cell_type": "code",
   "execution_count": 53,
   "metadata": {},
   "outputs": [],
   "source": [
    "#CREATE CLASSES DYNAMICALLY WITH TYPE AS A METACLASS\n",
    "\n",
    "# class CustomClass:\n",
    "#     pass \n",
    "\n",
    "# cls = CustomClass()\n",
    "# print(cls)\n",
    "\n",
    "CustomClass = type(\"CustomClass\", (), {'name': \"Hrisikesh Neogi\",\n",
    "                                       \"youtube_channel_name\": \"Hrisikesh's AI unleashed lab\"})\n",
    "\n",
    "cls = CustomClass()"
   ]
  },
  {
   "cell_type": "code",
   "execution_count": 54,
   "metadata": {},
   "outputs": [
    {
     "data": {
      "text/plain": [
       "'CustomClass'"
      ]
     },
     "execution_count": 54,
     "metadata": {},
     "output_type": "execute_result"
    }
   ],
   "source": [
    "cls.__class__.__name__"
   ]
  },
  {
   "cell_type": "code",
   "execution_count": 40,
   "metadata": {},
   "outputs": [
    {
     "name": "stdout",
     "output_type": "stream",
     "text": [
      "Hrisikesh Neogi Hrisikesh's AI unleashed lab\n"
     ]
    }
   ],
   "source": [
    "print(cls.name, cls.youtube_channel_name)"
   ]
  },
  {
   "cell_type": "code",
   "execution_count": 41,
   "metadata": {},
   "outputs": [],
   "source": [
    "# DYNAMIC INHERITANCE WITH TYPE METACLASS \n",
    "\n",
    "CustomClass_01 = type(\"CustomClass_01\", (CustomClass, ), {'age': \"23\",\n",
    "                                       \"job\": \"data scientist\",\n",
    "                                       \"exp\": 2})\n",
    "\n",
    "cls_01 = CustomClass_01()\n"
   ]
  },
  {
   "cell_type": "code",
   "execution_count": 42,
   "metadata": {},
   "outputs": [
    {
     "data": {
      "text/plain": [
       "\"Hrisikesh's AI unleashed lab\""
      ]
     },
     "execution_count": 42,
     "metadata": {},
     "output_type": "execute_result"
    }
   ],
   "source": [
    "cls_01.youtube_channel_name"
   ]
  },
  {
   "cell_type": "code",
   "execution_count": 44,
   "metadata": {},
   "outputs": [
    {
     "data": {
      "text/plain": [
       "pandas.core.frame.DataFrame"
      ]
     },
     "execution_count": 44,
     "metadata": {},
     "output_type": "execute_result"
    }
   ],
   "source": [
    "# __class__ method explaination\n",
    "\n",
    "df.__class__"
   ]
  },
  {
   "cell_type": "code",
   "execution_count": 47,
   "metadata": {},
   "outputs": [
    {
     "data": {
      "text/plain": [
       "'Abc'"
      ]
     },
     "execution_count": 47,
     "metadata": {},
     "output_type": "execute_result"
    }
   ],
   "source": [
    "abc.__class__.__name__"
   ]
  },
  {
   "cell_type": "code",
   "execution_count": 57,
   "metadata": {},
   "outputs": [],
   "source": [
    "# CUSTOM METACLASS CREATION\n",
    "\n",
    "class MetaClass(type):\n",
    "    pass \n",
    "\n",
    "class Test:\n",
    "    pass \n",
    "\n",
    "class CustomClassWithMeta(metaclass = MetaClass):\n",
    "    pass "
   ]
  },
  {
   "cell_type": "code",
   "execution_count": 60,
   "metadata": {},
   "outputs": [
    {
     "name": "stdout",
     "output_type": "stream",
     "text": [
      "<class 'type'>\n",
      "<class '__main__.MetaClass'>\n"
     ]
    }
   ],
   "source": [
    "print(type(Test))\n",
    "print(type(CustomClassWithMeta))"
   ]
  },
  {
   "cell_type": "code",
   "execution_count": 66,
   "metadata": {},
   "outputs": [
    {
     "name": "stdout",
     "output_type": "stream",
     "text": [
      "23\n"
     ]
    }
   ],
   "source": [
    "# Experiments with metaclasses \n",
    "\n",
    "# Define a custom metaclass\n",
    "class MyMeta(type):\n",
    "    def __init__(cls, name, bases, attrs): #name is the class name, bases means the base class (parent class), attrs are the attrtibutes/params to the class\n",
    "        # Add an attribute to the class\n",
    "        cls.new_attribute = 42\n",
    "        cls.class_no = 3\n",
    "        cls.magic = True\n",
    "        super(MyMeta, cls).__init__(name, bases, attrs)\n",
    "\n",
    "\n",
    "# Create a class using the custom metaclass\n",
    "class MyClass(metaclass=MyMeta):\n",
    "    def __init__(self, value):\n",
    "        self.value = value\n",
    "\n",
    "    def print_value(self):\n",
    "        print(self.value)\n",
    "\n",
    "mycls = MyClass(23)\n",
    "mycls.print_value()\n"
   ]
  },
  {
   "cell_type": "code",
   "execution_count": 67,
   "metadata": {},
   "outputs": [
    {
     "data": {
      "text/plain": [
       "True"
      ]
     },
     "execution_count": 67,
     "metadata": {},
     "output_type": "execute_result"
    }
   ],
   "source": [
    "mycls.magic"
   ]
  },
  {
   "cell_type": "markdown",
   "metadata": {},
   "source": [
    "## `__new__` and `__init__` \n",
    "\n",
    "In Python, both `__init__` and `__new__` are special methods used during the creation and initialization of objects, but they serve different purposes:\n",
    "\n",
    "1. `__new__` Method:\n",
    "   - The `__new__` method is responsible for creating a new instance of a class before `__init__` is called.\n",
    "   - It is a static method that takes the class as its first argument (`cls`) and returns a new instance of the class.\n",
    "   - You can override `__new__` to customize the creation of the instance. It's often used when dealing with immutable objects or to control object creation in metaclasses.\n",
    "   - It's called before `__init__` and is used to set up the object's state.\n",
    "\n",
    "Here's an example of using `__new__`:\n"
   ]
  },
  {
   "cell_type": "code",
   "execution_count": 70,
   "metadata": {},
   "outputs": [
    {
     "name": "stdout",
     "output_type": "stream",
     "text": [
      "new is called\n",
      "init is called\n",
      "42\n"
     ]
    }
   ],
   "source": [
    "class MyClass:\n",
    "    def __new__(cls, *args, **kwargs):\n",
    "        instance = super(MyClass, cls).__new__(cls)\n",
    "        instance.value = args[0] if args else None\n",
    "        print(\"new is called\")\n",
    "        return instance\n",
    "\n",
    "    def __init__(self, value):\n",
    "        print(\"init is called\")\n",
    "        self.value = value\n",
    "\n",
    "obj = MyClass(42)\n",
    "print(obj.value)"
   ]
  },
  {
   "cell_type": "markdown",
   "metadata": {},
   "source": [
    "In this example, the `__new__` method creates an instance and sets its `value` attribute based on the arguments passed to the constructor.\n",
    "\n",
    "2. `__init__` Method:\n",
    "   - The `__init__` method is responsible for initializing the created instance after it has been created by `__new__`.\n",
    "   - It's an instance method and takes the created instance as its first argument (`self`).\n",
    "   - `__init__` is where you typically perform attribute assignments and other instance-specific initialization.\n",
    "   - It's called automatically after `__new__` when you create an object.\n",
    "\n",
    "Here's an example of using `__init__`:\n",
    "\n",
    "\n"
   ]
  },
  {
   "cell_type": "code",
   "execution_count": 71,
   "metadata": {},
   "outputs": [
    {
     "name": "stdout",
     "output_type": "stream",
     "text": [
      "42\n"
     ]
    }
   ],
   "source": [
    "class MyClass:\n",
    "    def __init__(self, value):\n",
    "        self.value = value\n",
    "\n",
    "obj = MyClass(42)\n",
    "print(obj.value)"
   ]
  },
  {
   "cell_type": "markdown",
   "metadata": {},
   "source": [
    "In this example, the `__init__` method initializes the `value` attribute of the object based on the argument passed to the constructor.\n",
    "\n",
    "In summary, `__new__` is responsible for creating the instance and can be used to customize instance creation, while `__init__` is responsible for initializing the instance after it has been created. In most cases, you'll primarily use `__init__` for typical object initialization, while `__new__` is used for more advanced scenarios, such as working with immutable objects or customizing class creation."
   ]
  },
  {
   "cell_type": "markdown",
   "metadata": {},
   "source": [
    "## 9. `__call__` METHOD AND ITS USES\n",
    "\n",
    "\n",
    "In Python, the `__call__` method is a special method that you can define in a class. When you define the `__call__` method in a class, you make instances of that class callable, just like functions. When you \"call\" an instance of a class by using parentheses, Python will invoke the `__call__` method of that instance."
   ]
  },
  {
   "cell_type": "code",
   "execution_count": 1,
   "metadata": {},
   "outputs": [],
   "source": [
    "from typing import Any\n",
    "\n",
    "\n",
    "class CallTest:\n",
    "    def __init__(self,num1, num2):\n",
    "\n",
    "        self.num1 = num1\n",
    "        self.num2 = num2\n",
    "\n",
    "    def __call__(self, num3):\n",
    "        return self.num1 + self.num2 + num3\n",
    "    \n",
    "ins = CallTest(num1=3, num2=4)"
   ]
  },
  {
   "cell_type": "code",
   "execution_count": 2,
   "metadata": {},
   "outputs": [
    {
     "data": {
      "text/plain": [
       "17"
      ]
     },
     "execution_count": 2,
     "metadata": {},
     "output_type": "execute_result"
    }
   ],
   "source": [
    "ins(10)"
   ]
  },
  {
   "cell_type": "code",
   "execution_count": 5,
   "metadata": {},
   "outputs": [],
   "source": [
    "# SINGLETON DESIGN WITH METACLASS IN PYTHON\n",
    "\n",
    "from typing import Any\n",
    "\n",
    "\n",
    "class NotASingleTon(type):\n",
    "    def __call__(cls, *args: Any, **kwds: Any) -> Any:\n",
    "        return super().__call__(*args, **kwds)\n",
    "\n",
    "\n",
    "class One(metaclass = NotASingleTon):\n",
    "    pass \n",
    "\n",
    "class Two(metaclass = NotASingleTon):\n",
    "    pass \n",
    "\n",
    "a = One()\n",
    "b = Two()\n",
    "a1 = One()\n",
    "b1 = Two\n"
   ]
  },
  {
   "cell_type": "code",
   "execution_count": 2,
   "metadata": {},
   "outputs": [],
   "source": [
    "#implement singleton metaclass to avoid creating more than one instance of a class \n",
    "\n",
    "from typing import Any\n",
    "\n",
    "\n",
    "class SingleTonMetaClass(type):\n",
    "    _instances = {}\n",
    "\n",
    "    def __call__(cls, *args: Any, **kwds: Any) -> Any:\n",
    "        if cls not in cls._instances:\n",
    "            cls._instances[cls] = super().__call__(*args, **kwds)\n",
    "        print(len(cls._instances))\n",
    "        print(\"print\",cls._instances)\n",
    "        return cls._instances[cls]"
   ]
  },
  {
   "cell_type": "code",
   "execution_count": 3,
   "metadata": {},
   "outputs": [
    {
     "name": "stdout",
     "output_type": "stream",
     "text": [
      "1\n",
      "print {<class '__main__.One_'>: <__main__.One_ object at 0x0000019C561D7E80>}\n",
      "2\n",
      "print {<class '__main__.One_'>: <__main__.One_ object at 0x0000019C561D7E80>, <class '__main__.Two_'>: <__main__.Two_ object at 0x0000019C563B8BB0>}\n",
      "2\n",
      "print {<class '__main__.One_'>: <__main__.One_ object at 0x0000019C561D7E80>, <class '__main__.Two_'>: <__main__.Two_ object at 0x0000019C563B8BB0>}\n",
      "2\n",
      "print {<class '__main__.One_'>: <__main__.One_ object at 0x0000019C561D7E80>, <class '__main__.Two_'>: <__main__.Two_ object at 0x0000019C563B8BB0>}\n",
      "2\n",
      "print {<class '__main__.One_'>: <__main__.One_ object at 0x0000019C561D7E80>, <class '__main__.Two_'>: <__main__.Two_ object at 0x0000019C563B8BB0>}\n",
      "2\n",
      "print {<class '__main__.One_'>: <__main__.One_ object at 0x0000019C561D7E80>, <class '__main__.Two_'>: <__main__.Two_ object at 0x0000019C563B8BB0>}\n",
      "2\n",
      "print {<class '__main__.One_'>: <__main__.One_ object at 0x0000019C561D7E80>, <class '__main__.Two_'>: <__main__.Two_ object at 0x0000019C563B8BB0>}\n",
      "2\n",
      "print {<class '__main__.One_'>: <__main__.One_ object at 0x0000019C561D7E80>, <class '__main__.Two_'>: <__main__.Two_ object at 0x0000019C563B8BB0>}\n",
      "2\n",
      "print {<class '__main__.One_'>: <__main__.One_ object at 0x0000019C561D7E80>, <class '__main__.Two_'>: <__main__.Two_ object at 0x0000019C563B8BB0>}\n",
      "2\n",
      "print {<class '__main__.One_'>: <__main__.One_ object at 0x0000019C561D7E80>, <class '__main__.Two_'>: <__main__.Two_ object at 0x0000019C563B8BB0>}\n"
     ]
    }
   ],
   "source": [
    "class One_(metaclass = SingleTonMetaClass):\n",
    "    pass \n",
    "class Two_(metaclass = SingleTonMetaClass):\n",
    "    pass \n",
    "\n",
    "a_ = One_()\n",
    "b_ = Two_()\n",
    "\n",
    "a2 = One_()\n",
    "b2 = Two_()\n",
    "\n",
    "a3 = One_()\n",
    "b3 = Two_()\n",
    "a4 = One_()\n",
    "b4 = Two_()\n",
    "a5 = One_()\n",
    "b5= Two_()"
   ]
  },
  {
   "cell_type": "code",
   "execution_count": null,
   "metadata": {},
   "outputs": [],
   "source": []
  }
 ],
 "metadata": {
  "kernelspec": {
   "display_name": "Python 3",
   "language": "python",
   "name": "python3"
  },
  "language_info": {
   "codemirror_mode": {
    "name": "ipython",
    "version": 3
   },
   "file_extension": ".py",
   "mimetype": "text/x-python",
   "name": "python",
   "nbconvert_exporter": "python",
   "pygments_lexer": "ipython3",
   "version": "3.8.18"
  }
 },
 "nbformat": 4,
 "nbformat_minor": 2
}
